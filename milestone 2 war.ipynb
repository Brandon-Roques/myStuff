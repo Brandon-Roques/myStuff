{
 "cells": [
  {
   "cell_type": "markdown",
   "metadata": {},
   "source": [
    "# **Create the card game War**"
   ]
  },
  {
   "cell_type": "markdown",
   "metadata": {},
   "source": [
    "### This will create the Cards"
   ]
  },
  {
   "cell_type": "code",
   "execution_count": 4,
   "metadata": {},
   "outputs": [],
   "source": [
    "#this will be a global variable to compare values\n",
    "\n",
    "suits = ('Hearts', 'Diamonds', 'Spades', 'Clubs')\n",
    "\n",
    "ranks = ('Two', 'Three', 'Four', 'Five', 'Six', 'Seven', 'Eight', 'Nine', 'Ten',\n",
    "         'Jack', 'Queen', 'King', 'Ace')\n",
    "\n",
    "values = {\"Two\": 2, \"Three\": 3, \"Four\": 4, \"Five\": 5, \"Six\": 6,\n",
    "           \"Seven\": 7, \"Eight\": 8, \"Nine\": 9, \"Ten\": 10, \n",
    "            \"Jack\": 11, \"Queen\": 12, \"King\": 13, \"Ace\": 14}"
   ]
  },
  {
   "cell_type": "code",
   "execution_count": 5,
   "metadata": {},
   "outputs": [],
   "source": [
    "class Card:\n",
    "    def __init__(self, suit, rank):\n",
    "        self.suit = suit\n",
    "        self.rank = rank\n",
    "        self.value = values[rank]  #this line will add the .value to whatever\n",
    "                                   #varialbe the class is assigned to\n",
    "\n",
    "    def __str__(self):\n",
    "        return self.rank + \" of \" + self.suit"
   ]
  },
  {
   "cell_type": "markdown",
   "metadata": {},
   "source": [
    "### This will create the deck\n"
   ]
  },
  {
   "cell_type": "code",
   "execution_count": 6,
   "metadata": {},
   "outputs": [],
   "source": [
    "import random\n",
    "\n",
    "\n",
    "class Deck:\n",
    "    \n",
    "    def __init__(self):\n",
    "        self.all_cards = []  #an empty list that cards will be added to\n",
    "\n",
    "        for suit in suits:\n",
    "            for rank in ranks:   #the two for loops will create all 52 cards from \n",
    "                                 #the global variables at the top\n",
    "                #create the card object\n",
    "                created_card = Card(suit,rank)\n",
    "                self.all_cards.append(created_card)  #this will add the new card\n",
    "                                                     #to all_cards using inheritance\n",
    "                                                     #from the Card class\n",
    "\n",
    "    def shuffle(self):\n",
    "        random.shuffle(self.all_cards)\n",
    "\n",
    "    def deal_one(self):\n",
    "        return self.all_cards.pop()  #this will remove one card from the deck to \n",
    "                                     #deal, or play\n",
    "\n"
   ]
  },
  {
   "cell_type": "code",
   "execution_count": 7,
   "metadata": {},
   "outputs": [
    {
     "name": "stdout",
     "output_type": "stream",
     "text": [
      "Two of Hearts\n",
      "Three of Hearts\n",
      "Four of Hearts\n",
      "Five of Hearts\n",
      "Six of Hearts\n",
      "Seven of Hearts\n",
      "Eight of Hearts\n",
      "Nine of Hearts\n",
      "Ten of Hearts\n",
      "Jack of Hearts\n",
      "Queen of Hearts\n",
      "King of Hearts\n",
      "Ace of Hearts\n",
      "Two of Diamonds\n",
      "Three of Diamonds\n",
      "Four of Diamonds\n",
      "Five of Diamonds\n",
      "Six of Diamonds\n",
      "Seven of Diamonds\n",
      "Eight of Diamonds\n",
      "Nine of Diamonds\n",
      "Ten of Diamonds\n",
      "Jack of Diamonds\n",
      "Queen of Diamonds\n",
      "King of Diamonds\n",
      "Ace of Diamonds\n",
      "Two of Spades\n",
      "Three of Spades\n",
      "Four of Spades\n",
      "Five of Spades\n",
      "Six of Spades\n",
      "Seven of Spades\n",
      "Eight of Spades\n",
      "Nine of Spades\n",
      "Ten of Spades\n",
      "Jack of Spades\n",
      "Queen of Spades\n",
      "King of Spades\n",
      "Ace of Spades\n",
      "Two of Clubs\n",
      "Three of Clubs\n",
      "Four of Clubs\n",
      "Five of Clubs\n",
      "Six of Clubs\n",
      "Seven of Clubs\n",
      "Eight of Clubs\n",
      "Nine of Clubs\n",
      "Ten of Clubs\n",
      "Jack of Clubs\n",
      "Queen of Clubs\n",
      "King of Clubs\n",
      "Ace of Clubs\n"
     ]
    }
   ],
   "source": [
    "#test to see if this created all cards\n",
    "\n",
    "new_deck = Deck()\n",
    "\n",
    "new_deck.all_cards\n",
    "\n",
    "for each_card in new_deck.all_cards:\n",
    "    print(each_card)"
   ]
  },
  {
   "cell_type": "code",
   "execution_count": 8,
   "metadata": {},
   "outputs": [
    {
     "name": "stdout",
     "output_type": "stream",
     "text": [
      "Two of Hearts\n",
      "Two of Hearts\n"
     ]
    }
   ],
   "source": [
    "#test to see if the shuffle method works\n",
    "\n",
    "first_card = new_deck.all_cards[0] \n",
    "\n",
    "print(first_card)   #this returned Two of Hearts\n",
    "\n",
    "new_deck.shuffle()\n",
    "\n",
    "print(first_card)  #now we are getting random cards"
   ]
  },
  {
   "cell_type": "code",
   "execution_count": 9,
   "metadata": {},
   "outputs": [
    {
     "name": "stdout",
     "output_type": "stream",
     "text": [
      "Four of Clubs\n"
     ]
    },
    {
     "data": {
      "text/plain": [
       "51"
      ]
     },
     "execution_count": 9,
     "metadata": {},
     "output_type": "execute_result"
    }
   ],
   "source": [
    "#test to see if this randomly removes a card\n",
    "mycard = new_deck.deal_one()\n",
    "print(mycard)\n",
    "\n",
    "len(new_deck.all_cards)  #the deck should begin to lose cards "
   ]
  },
  {
   "cell_type": "markdown",
   "metadata": {},
   "source": [
    "### This will create the Player"
   ]
  },
  {
   "cell_type": "code",
   "execution_count": 10,
   "metadata": {},
   "outputs": [],
   "source": [
    "class Player:\n",
    "\n",
    "    def __init__(self,name):\n",
    "        self.name = name\n",
    "        self.all_cards = []\n",
    "\n",
    "    def remove_one(self):\n",
    "        return self.all_cards.pop(0) #this removes the first card in the list \n",
    "\n",
    "    def add_cards(self,new_cards):\n",
    "        if type(new_cards) == type([]):\n",
    "            #this will add more than one card\n",
    "            self.all_cards.extend(new_cards)\n",
    "        else:\n",
    "            #this will add only one card\n",
    "            self.all_cards.append(new_cards)\n",
    "        \n",
    "\n",
    "    def __str__(self):\n",
    "        return f\"Player {self.name} has {len(self.all_cards)} cards\""
   ]
  },
  {
   "cell_type": "markdown",
   "metadata": {},
   "source": [
    "### Game Logic"
   ]
  },
  {
   "cell_type": "code",
   "execution_count": 19,
   "metadata": {},
   "outputs": [],
   "source": [
    "# GAME SETUP\n",
    "\n",
    "player_one = Player(\"One\")\n",
    "player_two = Player(\"Two\")\n",
    "\n",
    "new_deck = Deck()\n",
    "new_deck.shuffle()\n",
    "\n",
    "for i in range(26):  #its range 26 cause it's dealing two cards at a time\n",
    "    player_one.add_cards(new_deck.deal_one())\n",
    "    player_two.add_cards(new_deck.deal_one())\n"
   ]
  },
  {
   "cell_type": "code",
   "execution_count": 20,
   "metadata": {},
   "outputs": [
    {
     "name": "stdout",
     "output_type": "stream",
     "text": [
      "This is Round Number 1\n",
      "This is Round Number 2\n",
      "WAR!\n",
      "This is Round Number 3\n",
      "This is Round Number 4\n",
      "This is Round Number 5\n",
      "This is Round Number 6\n",
      "WAR!\n",
      "This is Round Number 7\n",
      "This is Round Number 8\n",
      "This is Round Number 9\n",
      "This is Round Number 10\n",
      "This is Round Number 11\n",
      "WAR!\n",
      "This is Round Number 12\n",
      "This is Round Number 13\n",
      "This is Round Number 14\n",
      "This is Round Number 15\n",
      "This is Round Number 16\n",
      "This is Round Number 17\n",
      "This is Round Number 18\n",
      "This is Round Number 19\n",
      "This is Round Number 20\n",
      "This is Round Number 21\n",
      "This is Round Number 22\n",
      "This is Round Number 23\n",
      "This is Round Number 24\n",
      "This is Round Number 25\n",
      "This is Round Number 26\n",
      "This is Round Number 27\n",
      "This is Round Number 28\n",
      "This is Round Number 29\n",
      "This is Round Number 30\n",
      "This is Round Number 31\n",
      "This is Round Number 32\n",
      "Player One is out of cards! Player Two Wins!!!\n"
     ]
    }
   ],
   "source": [
    "game_on = True\n",
    "round_num = 0\n",
    "\n",
    "while game_on == True:\n",
    "\n",
    "    round_num += 1\n",
    "    print(f\"This is Round Number {round_num}\")\n",
    "\n",
    "    #before the round starts, check to make sure if someone wins\n",
    "\n",
    "    if len(player_one.all_cards) == 0:\n",
    "        print(\"Player One is out of cards! Player Two Wins!!!\")\n",
    "        game_on = False\n",
    "        break\n",
    "       \n",
    "    if len(player_two.all_cards) == 0:\n",
    "        print(\"Player Two is out of cards! Player One Wins!!!\")\n",
    "        game_on = False\n",
    "        break\n",
    "\n",
    "    #create variables for the cards currently in play\n",
    "\n",
    "    player_one_cards = []\n",
    "    player_one_cards.append(player_one.remove_one())\n",
    "\n",
    "    player_two_cards = []\n",
    "    player_two_cards.append(player_two.remove_one())\n",
    "\n",
    "\n",
    "    at_war = True\n",
    "    while at_war == True:\n",
    "        if player_one_cards[-1].value > player_two_cards[-1].value:\n",
    "            player_one.add_cards(player_one_cards and player_two_cards)\n",
    "            at_war = False\n",
    "\n",
    "        elif player_one_cards[-1].value < player_two_cards[-1].value:\n",
    "            player_two.add_cards(player_one_cards and player_two_cards)\n",
    "            at_war = False\n",
    "            \n",
    "\n",
    "        else:\n",
    "            print(\"WAR!\")\n",
    "\n",
    "            if len(player_one.all_cards) < 5:\n",
    "                print(\"Player One unable to declare war\")\n",
    "                print(\"Player Two Wins!!!\")\n",
    "                game_on = False\n",
    "                break\n",
    "            elif len(player_two.all_cards) < 5:\n",
    "                print(\"Player Two unable to declare war\")\n",
    "                print(\"Player One Wins!!!\")\n",
    "                game_on = False\n",
    "                break\n",
    "            else:\n",
    "                for num in range(3):\n",
    "                    player_one_cards.append(player_one.remove_one())\n",
    "                    player_two_cards.append(player_two.remove_one())\n",
    "\n",
    "\n",
    "\n",
    "\n",
    "\n",
    "\n"
   ]
  }
 ],
 "metadata": {
  "kernelspec": {
   "display_name": "Python 3.7.7 64-bit",
   "language": "python",
   "name": "python3"
  },
  "language_info": {
   "codemirror_mode": {
    "name": "ipython",
    "version": 3
   },
   "file_extension": ".py",
   "mimetype": "text/x-python",
   "name": "python",
   "nbconvert_exporter": "python",
   "pygments_lexer": "ipython3",
   "version": "3.7.7"
  },
  "orig_nbformat": 4,
  "vscode": {
   "interpreter": {
    "hash": "2d1ead50cd14a5127b12ebe7e213a15c69787502b5484729c708dda320be004f"
   }
  }
 },
 "nbformat": 4,
 "nbformat_minor": 2
}
